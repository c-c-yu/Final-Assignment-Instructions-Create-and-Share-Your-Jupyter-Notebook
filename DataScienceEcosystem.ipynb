{
 "cells": [
  {
   "cell_type": "markdown",
   "id": "d2e009ef-d1a8-4c79-a03b-a2dc2a093cbe",
   "metadata": {},
   "source": [
    "# Data Science Tools and Ecosystem"
   ]
  },
  {
   "cell_type": "markdown",
   "id": "67d8e96a-9a18-4d1f-a651-7cca4fab4017",
   "metadata": {},
   "source": [
    "In this notebook, Data Science Tools and Ecosystem are summarized."
   ]
  },
  {
   "cell_type": "markdown",
   "id": "9a982540-09e2-4475-9a7a-8be44d299562",
   "metadata": {},
   "source": [
    "**Objectives:**\n",
    "* list popular languages for Data Science\n",
    "* commonly used libraries used by Data Scientists\n",
    "* list popular Data Science Tools"
   ]
  },
  {
   "cell_type": "markdown",
   "id": "8800c74b-617b-466e-b782-5980c0d7084c",
   "metadata": {},
   "source": [
    "Some of the popular languages that Data Scientists use are:\n",
    "1. Python\n",
    "2. R\n",
    "3. C++"
   ]
  },
  {
   "cell_type": "markdown",
   "id": "1286a20e-dce8-42b1-829c-8fa51e52cd6a",
   "metadata": {},
   "source": [
    "Some of the commonly used libraries used by Data Scientists include:\n",
    "1. Panda\n",
    "2. Numpy\n",
    "3. Matplotlib"
   ]
  },
  {
   "cell_type": "markdown",
   "id": "68520fa3-698b-4de2-9b03-81fb6918f44e",
   "metadata": {},
   "source": [
    "| Data Science Tools |\n",
    "|--------------------|\n",
    "| Jupyter Notebook |\n",
    "| Apache Spark |\n",
    "| IBM SPSS |"
   ]
  },
  {
   "cell_type": "markdown",
   "id": "fa5dfd7a-6a3e-4f3f-93fc-6f4ba3e76a47",
   "metadata": {},
   "source": [
    "### Below are a few examples of evaluating arithmetic expressions in Python"
   ]
  },
  {
   "cell_type": "code",
   "execution_count": 1,
   "id": "528a83a7-7499-45a1-8ff7-84824b7ddddf",
   "metadata": {},
   "outputs": [
    {
     "data": {
      "text/plain": [
       "17"
      ]
     },
     "execution_count": 1,
     "metadata": {},
     "output_type": "execute_result"
    }
   ],
   "source": [
    "#This a simple arithmetic expression to mutiply then add integers\n",
    "( 3 * 4 ) + 5"
   ]
  },
  {
   "cell_type": "code",
   "execution_count": 2,
   "id": "62a4088b-397c-47b4-b0a4-e0c95e7d70f6",
   "metadata": {},
   "outputs": [
    {
     "data": {
      "text/plain": [
       "3.3333333333333335"
      ]
     },
     "execution_count": 2,
     "metadata": {},
     "output_type": "execute_result"
    }
   ],
   "source": [
    "#This will convert 200 minutes to hours by diving by 60\n",
    "200 / 60"
   ]
  },
  {
   "cell_type": "markdown",
   "id": "91321cd3-c201-49aa-8d8b-e79c5a58f352",
   "metadata": {},
   "source": [
    "## Author\n",
    "Chien-Ching Yu"
   ]
  },
  {
   "cell_type": "code",
   "execution_count": null,
   "id": "69025650-2c32-49a6-8d48-c82ec3f9e63e",
   "metadata": {},
   "outputs": [],
   "source": []
  }
 ],
 "metadata": {
  "kernelspec": {
   "display_name": "Python 3 (ipykernel)",
   "language": "python",
   "name": "python3"
  },
  "language_info": {
   "codemirror_mode": {
    "name": "ipython",
    "version": 3
   },
   "file_extension": ".py",
   "mimetype": "text/x-python",
   "name": "python",
   "nbconvert_exporter": "python",
   "pygments_lexer": "ipython3",
   "version": "3.11.9"
  }
 },
 "nbformat": 4,
 "nbformat_minor": 5
}
